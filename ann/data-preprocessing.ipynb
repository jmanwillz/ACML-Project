{
 "cells": [
  {
   "cell_type": "markdown",
   "id": "0a124e89",
   "metadata": {
    "tags": [
     "hide_input"
    ]
   },
   "source": [
    "### 1. Import Libraries\n"
   ]
  },
  {
   "cell_type": "code",
   "execution_count": null,
   "id": "fbddb834",
   "metadata": {},
   "outputs": [],
   "source": [
    "import numpy as np\n",
    "import pandas as pd\n",
    "import matplotlib.pyplot as plt\n",
    "import seaborn as sns\n",
    "from sklearn.preprocessing import MinMaxScaler\n",
    "from sklearn.preprocessing import RobustScaler\n",
    "from sklearn.model_selection import train_test_split\n",
    "from sklearn.metrics import confusion_matrix, f1_score, accuracy_score, recall_score, roc_curve, auc, precision_score\n",
    "import torch\n",
    "import torch.nn as nn"
   ]
  },
  {
   "cell_type": "markdown",
   "id": "6dc56f9a",
   "metadata": {},
   "source": [
    "### 2. Load Data\n"
   ]
  },
  {
   "cell_type": "code",
   "execution_count": null,
   "id": "fc6c112c",
   "metadata": {},
   "outputs": [],
   "source": [
    "# Load data\n",
    "df = pd.read_csv(\"../dataset/data.csv\", sep=\";\")\n",
    "df.head()"
   ]
  },
  {
   "cell_type": "code",
   "execution_count": null,
   "id": "28e7978a",
   "metadata": {},
   "outputs": [],
   "source": [
    "# Variables table\n",
    "df_variables = pd.read_csv(\"../dataset/variables.csv\")\n",
    "df_variables.head(len(df_variables))"
   ]
  },
  {
   "cell_type": "code",
   "execution_count": null,
   "id": "f6fa0c82",
   "metadata": {},
   "outputs": [],
   "source": [
    "# Data info\n",
    "df.info()"
   ]
  },
  {
   "cell_type": "markdown",
   "id": "4bec44cd",
   "metadata": {},
   "source": [
    "#### 2.1. Target Variable\n"
   ]
  },
  {
   "cell_type": "code",
   "execution_count": null,
   "id": "5a020b31",
   "metadata": {},
   "outputs": [],
   "source": [
    "# Target variable\n",
    "df_target = pd.read_csv(\"../dataset/labels.csv\")\n",
    "df_target.head()"
   ]
  },
  {
   "cell_type": "code",
   "execution_count": null,
   "id": "a373783e",
   "metadata": {},
   "outputs": [],
   "source": [
    "# Value counts\n",
    "df_target[\"y\"].value_counts()"
   ]
  },
  {
   "cell_type": "code",
   "execution_count": null,
   "id": "9771710c",
   "metadata": {},
   "outputs": [],
   "source": [
    "# Normalised value counts\n",
    "df_target[\"y\"].value_counts(normalize=True)"
   ]
  },
  {
   "cell_type": "code",
   "execution_count": null,
   "id": "f4a82a42",
   "metadata": {},
   "outputs": [],
   "source": [
    "# Visualise the target variable\n",
    "sns.countplot(x=\"y\", data=df_target, hue=\"y\")\n",
    "plt.show()"
   ]
  },
  {
   "cell_type": "code",
   "execution_count": null,
   "id": "4db59235",
   "metadata": {},
   "outputs": [],
   "source": [
    "# Add the 'y' column from df_target as a new column in df\n",
    "df[\"y\"] = df_target[\"y\"]\n",
    "df.head()"
   ]
  },
  {
   "cell_type": "markdown",
   "id": "ffacd461",
   "metadata": {},
   "source": [
    "### 3. Exploratory Data Analysis\n"
   ]
  },
  {
   "cell_type": "markdown",
   "id": "4b692011",
   "metadata": {},
   "source": [
    "#### 3.1. Missing Values\n"
   ]
  },
  {
   "cell_type": "code",
   "execution_count": null,
   "id": "f03843af",
   "metadata": {},
   "outputs": [],
   "source": [
    "# Count missing values per column\n",
    "df.isnull().sum()"
   ]
  },
  {
   "cell_type": "code",
   "execution_count": null,
   "id": "bfee9d28",
   "metadata": {},
   "outputs": [],
   "source": [
    "# Replace missing values\n",
    "\n",
    "# Numerical columns have no missing values\n",
    "\n",
    "# Categorical columns\n",
    "df = df.fillna(value={\"job\": \"missing\"})\n",
    "df = df.fillna(value={\"education\": \"missing\"})\n",
    "df = df.fillna(value={\"contact\": \"missing\"})\n",
    "df = df.fillna(value={\"poutcome\": \"missing\"})"
   ]
  },
  {
   "cell_type": "code",
   "execution_count": null,
   "id": "7ca8ed1b",
   "metadata": {},
   "outputs": [],
   "source": [
    "# Recount missing values per column\n",
    "df.isnull().sum()"
   ]
  },
  {
   "cell_type": "markdown",
   "id": "9544303d",
   "metadata": {},
   "source": [
    "#### 3.2. Unique Values\n"
   ]
  },
  {
   "cell_type": "code",
   "execution_count": null,
   "id": "d65b2f4d",
   "metadata": {},
   "outputs": [],
   "source": [
    "# Investigate unique values\n",
    "df.nunique()"
   ]
  },
  {
   "cell_type": "markdown",
   "id": "49eed49c",
   "metadata": {},
   "source": [
    "#### 3.3. Categorical Variables\n"
   ]
  },
  {
   "cell_type": "code",
   "execution_count": null,
   "id": "d9fe67c6",
   "metadata": {},
   "outputs": [],
   "source": [
    "# Categorical Variables\n",
    "def explore_categorical(col_name):\n",
    "    print(\"{0} Summary\".format(col_name))\n",
    "    print(\"\\n\")\n",
    "\n",
    "    # Print the count of each category\n",
    "    print(\"{0} Counts\".format(col_name))\n",
    "    print(df[col_name].value_counts())\n",
    "    print(\"\\n\")\n",
    "\n",
    "    # Print the ratio of each category\n",
    "    print(\"{0} Ratio\".format(col_name))\n",
    "    print(df[col_name].value_counts(normalize=True))\n",
    "    print(\"\\n\")\n",
    "\n",
    "    # Print counts of y grouped by the categorical column\n",
    "    print(\"{0} Default Counts\".format(col_name))\n",
    "    print(df.groupby(col_name)[\"y\"].value_counts().unstack(level=-1))\n",
    "    print(\"\\n\")\n",
    "\n",
    "    # Print ratio of y grouped by the categorical column\n",
    "    print(\"{0} Default Ratio\".format(col_name))\n",
    "    print(df.groupby(col_name)[\"y\"].value_counts(normalize=True).unstack(level=-1))\n",
    "    print(\"\\n\")\n",
    "\n",
    "    # Plot ratio of y by the categorical column\n",
    "    sns.catplot(data=df, kind=\"count\", x=col_name, hue=\"y\")\n",
    "    plt.xticks(rotation=45)\n",
    "    plt.tight_layout()\n",
    "    plt.show()"
   ]
  },
  {
   "cell_type": "code",
   "execution_count": null,
   "id": "fff46b10",
   "metadata": {},
   "outputs": [],
   "source": [
    "# Explore job column\n",
    "explore_categorical(\"job\")"
   ]
  },
  {
   "cell_type": "markdown",
   "id": "dbc9cafe",
   "metadata": {},
   "source": [
    "#### 3.4. Continuous Variables\n"
   ]
  },
  {
   "cell_type": "code",
   "execution_count": null,
   "id": "e6d2f730",
   "metadata": {},
   "outputs": [],
   "source": [
    "# Continous Variables\n",
    "def explore_continuous(col_name):\n",
    "    # Print statistical summary\n",
    "    print(\"{0} Summary\".format(col_name))\n",
    "    print(\"\\n\")\n",
    "    print(df[col_name].describe())\n",
    "    print(\"\\n\")\n",
    "\n",
    "    # Look at boxplot\n",
    "    sns.boxplot(x=col_name, data=df)\n",
    "    plt.show()\n",
    "\n",
    "    # Look at the distribution\n",
    "    sns.displot(df[col_name], kde=True)\n",
    "    plt.show()\n",
    "\n",
    "    # Grouping with the target variable\n",
    "    print(\"{0} Grouped Summary\".format(col_name))\n",
    "    print(\"\\n\")\n",
    "    print(df.groupby(\"y\")[col_name].describe())\n",
    "\n",
    "    # Look at grouped boxplot\n",
    "    sns.boxplot(x=col_name, y=\"y\", data=df, orient=\"h\")\n",
    "    plt.show()"
   ]
  },
  {
   "cell_type": "code",
   "execution_count": null,
   "id": "ed32f072",
   "metadata": {},
   "outputs": [],
   "source": [
    "# Explore age column\n",
    "explore_continuous('pdays')"
   ]
  },
  {
   "cell_type": "markdown",
   "id": "67d7a27e",
   "metadata": {},
   "source": [
    "#### 3.5. Binary Variables\n"
   ]
  },
  {
   "cell_type": "code",
   "execution_count": null,
   "id": "a3a2f842",
   "metadata": {},
   "outputs": [],
   "source": [
    "# Binary Variables\n",
    "explore_categorical(\"housing\")"
   ]
  },
  {
   "cell_type": "markdown",
   "id": "cc743e38",
   "metadata": {},
   "source": [
    "### 4. Feature Engineering\n"
   ]
  },
  {
   "cell_type": "markdown",
   "id": "01249fc9",
   "metadata": {},
   "source": [
    "#### 4.1. Normalisation\n"
   ]
  },
  {
   "cell_type": "markdown",
   "id": "e1f92bc8",
   "metadata": {},
   "source": [
    "##### 4.1.1. Numerical Columns\n"
   ]
  },
  {
   "cell_type": "code",
   "execution_count": null,
   "id": "7af572fd",
   "metadata": {},
   "outputs": [],
   "source": [
    "numerical_columns = df_variables[df_variables[\"type\"] == \"Integer\"][\"name\"].tolist()\n",
    "print(numerical_columns)"
   ]
  },
  {
   "cell_type": "code",
   "execution_count": null,
   "id": "8decd603",
   "metadata": {},
   "outputs": [],
   "source": [
    "# Prior to scaling\n",
    "df[numerical_columns].boxplot()\n",
    "plt.title(\"Prior to Scaling\")\n",
    "plt.show()"
   ]
  },
  {
   "cell_type": "code",
   "execution_count": null,
   "id": "58cf05c7",
   "metadata": {},
   "outputs": [],
   "source": [
    "# # Min-max normalisation\n",
    "# mm_scalar = MinMaxScaler()\n",
    "# df[numerical_columns] = mm_scalar.fit_transform(df[numerical_columns])"
   ]
  },
  {
   "cell_type": "code",
   "execution_count": null,
   "id": "af59bd38",
   "metadata": {},
   "outputs": [],
   "source": [
    "# # After scaling\n",
    "# df[numerical_columns].boxplot()\n",
    "# plt.title(\"After Scaling\")\n",
    "# plt.show()"
   ]
  },
  {
   "cell_type": "code",
   "execution_count": null,
   "id": "861c0675",
   "metadata": {},
   "outputs": [],
   "source": [
    "# Create a box plot to visualise outliers\n",
    "plt.figure(figsize=(20, 10))\n",
    "for i in range(len(numerical_columns)):\n",
    "    plt.subplot(3, 4, i + 1)\n",
    "    sns.boxplot(x=df[numerical_columns[i]])\n",
    "    plt.title(numerical_columns[i])\n",
    "plt.tight_layout()\n",
    "plt.show()"
   ]
  },
  {
   "cell_type": "markdown",
   "id": "b6489ab7",
   "metadata": {},
   "source": [
    "###### Outliers\n",
    "\n",
    "RobustScaler is a good alternative when dealing with data that contains many outliers. "
   ]
  },
  {
   "cell_type": "code",
   "execution_count": null,
   "id": "8250fb22",
   "metadata": {},
   "outputs": [],
   "source": [
    "# Robust normalisation\n",
    "rb_scalar = RobustScaler()\n",
    "df[numerical_columns] = rb_scalar.fit_transform(df[numerical_columns])\n",
    "\n",
    "# After scaling\n",
    "df[numerical_columns].boxplot()\n",
    "plt.title(\"After Scaling\")\n",
    "plt.show()"
   ]
  },
  {
   "cell_type": "code",
   "execution_count": null,
   "id": "6032f3e2",
   "metadata": {},
   "outputs": [],
   "source": [
    "explore_continuous('pdays')"
   ]
  },
  {
   "cell_type": "markdown",
   "id": "161b8133",
   "metadata": {},
   "source": [
    "##### 4.1.2. Binary Columns\n"
   ]
  },
  {
   "cell_type": "code",
   "execution_count": null,
   "id": "1f4ec20d",
   "metadata": {},
   "outputs": [],
   "source": [
    "binary_columns = df_variables[df_variables[\"type\"] == \"Binary\"][\"name\"].tolist()\n",
    "print(binary_columns)"
   ]
  },
  {
   "cell_type": "code",
   "execution_count": null,
   "id": "0ba34212",
   "metadata": {},
   "outputs": [],
   "source": [
    "df[binary_columns] = df[binary_columns].apply(lambda col: col.map({\"yes\": 1, \"no\": 0}))\n",
    "df.head()"
   ]
  },
  {
   "cell_type": "markdown",
   "id": "f7ee8db8",
   "metadata": {},
   "source": [
    "##### 4.1.3. Categorical Columns\n"
   ]
  },
  {
   "cell_type": "markdown",
   "id": "c49123e7",
   "metadata": {},
   "source": [
    "###### Ordinal Columns\n"
   ]
  },
  {
   "cell_type": "code",
   "execution_count": null,
   "id": "9cde45bb",
   "metadata": {},
   "outputs": [],
   "source": [
    "ordinal_column = \"education\"\n",
    "categories = sorted(df[ordinal_column].unique())"
   ]
  },
  {
   "cell_type": "code",
   "execution_count": null,
   "id": "d903f30c",
   "metadata": {},
   "outputs": [],
   "source": [
    "# Ordinal-encoding\n",
    "df[ordinal_column] = df[ordinal_column].apply(\n",
    "    lambda x: (categories.index(x)) / (len(categories) - 1)\n",
    ")\n",
    "\n",
    "print(df[ordinal_column].value_counts())"
   ]
  },
  {
   "cell_type": "markdown",
   "id": "3f1a0ec9",
   "metadata": {},
   "source": [
    "###### Nominal Columns\n"
   ]
  },
  {
   "cell_type": "code",
   "execution_count": null,
   "id": "b6c3f1ef",
   "metadata": {},
   "outputs": [],
   "source": [
    "nominal_column = df_variables[\n",
    "    (df_variables[\"type\"] == \"Categorical\") & (df_variables[\"name\"] != \"education\")\n",
    "][\"name\"].tolist()\n",
    "print(nominal_column)"
   ]
  },
  {
   "cell_type": "code",
   "execution_count": null,
   "id": "28b5e5aa",
   "metadata": {},
   "outputs": [],
   "source": [
    "# One-hot encoding\n",
    "df = pd.get_dummies(df, columns=nominal_column, drop_first=False)\n",
    "new_cols = [\n",
    "    col\n",
    "    for col in df.columns\n",
    "    if any(orig_col + \"_\" in col for orig_col in nominal_column)\n",
    "]\n",
    "df[new_cols] = df[new_cols].astype(int)\n",
    "\n",
    "df.head()"
   ]
  },
  {
   "cell_type": "markdown",
   "id": "00b09b5f",
   "metadata": {},
   "source": [
    "##### 4.1.4. Date Columns\n"
   ]
  },
  {
   "cell_type": "code",
   "execution_count": null,
   "id": "f857e28a",
   "metadata": {},
   "outputs": [],
   "source": [
    "# explore_categorical('day')\n",
    "\n",
    "# Rename 'day_of_week' to 'day'\n",
    "df.rename(columns={\"day_of_week\": \"day\"}, inplace=True)\n",
    "df.head()"
   ]
  },
  {
   "cell_type": "code",
   "execution_count": null,
   "id": "d37094bb",
   "metadata": {},
   "outputs": [],
   "source": [
    "# explore_categorical('month')\n",
    "\n",
    "# Convert month names to month numbers\n",
    "month_map = {\n",
    "    \"jan\": 1,\n",
    "    \"feb\": 2,\n",
    "    \"mar\": 3,\n",
    "    \"apr\": 4,\n",
    "    \"may\": 5,\n",
    "    \"jun\": 6,\n",
    "    \"jul\": 7,\n",
    "    \"aug\": 8,\n",
    "    \"sep\": 9,\n",
    "    \"oct\": 10,\n",
    "    \"nov\": 11,\n",
    "    \"dec\": 12,\n",
    "}\n",
    "df[\"month\"] = df[\"month\"].map(month_map)\n",
    "\n",
    "df.head()"
   ]
  },
  {
   "cell_type": "code",
   "execution_count": null,
   "id": "a17e04cd",
   "metadata": {},
   "outputs": [],
   "source": [
    "# Cyclical encoding for day of the month (assuming max 31 days)\n",
    "df[\"day_sin\"] = np.sin(2 * np.pi * df[\"day\"] / 31)\n",
    "df[\"day_cos\"] = np.cos(2 * np.pi * df[\"day\"] / 31)\n",
    "\n",
    "# Cyclical encoding for month (12 months in a year)\n",
    "df[\"month_sin\"] = np.sin(2 * np.pi * df[\"month\"] / 12)\n",
    "df[\"month_cos\"] = np.cos(2 * np.pi * df[\"month\"] / 12)\n",
    "\n",
    "df.head()"
   ]
  },
  {
   "cell_type": "code",
   "execution_count": null,
   "id": "dc49b2e1",
   "metadata": {},
   "outputs": [],
   "source": [
    "# Drop the original 'month' and 'day_of_week' columns\n",
    "df.drop(columns=[\"month\", \"day\"], inplace=True)\n",
    "\n",
    "df.head()"
   ]
  },
  {
   "cell_type": "markdown",
   "id": "77a83bd6",
   "metadata": {},
   "source": [
    "### Train/Test Split\n"
   ]
  },
  {
   "cell_type": "code",
   "execution_count": null,
   "id": "81c01cdb",
   "metadata": {},
   "outputs": [],
   "source": [
    "X = df.drop(['y'], axis=1)\n",
    "y = df['y']\n"
   ]
  },
  {
   "cell_type": "code",
   "execution_count": null,
   "id": "6a33d255",
   "metadata": {},
   "outputs": [],
   "source": [
    "# Check dimensions of features and target\n",
    "print(X.shape)\n",
    "print(y.shape)"
   ]
  },
  {
   "cell_type": "code",
   "execution_count": null,
   "id": "bb96173f",
   "metadata": {},
   "outputs": [],
   "source": [
    "# Check info and dtype of features and targets\n",
    "X.info()\n",
    "y.dtype"
   ]
  },
  {
   "cell_type": "code",
   "execution_count": null,
   "id": "e2a52ca0",
   "metadata": {},
   "outputs": [],
   "source": [
    "# Convert to numpy arrays\n",
    "X = X.values\n",
    "y = y.values\n",
    "X.dtype, y.dtype"
   ]
  },
  {
   "cell_type": "code",
   "execution_count": null,
   "id": "f3b8c4f8",
   "metadata": {},
   "outputs": [],
   "source": [
    "# Split data into training and testing sets\n",
    "X_train, X_test, y_train, y_test = train_test_split(X, y, test_size=0.2, random_state=42)"
   ]
  },
  {
   "cell_type": "code",
   "execution_count": null,
   "id": "6a7f918e",
   "metadata": {},
   "outputs": [],
   "source": []
  },
  {
   "cell_type": "markdown",
   "id": "06e9828c",
   "metadata": {},
   "source": [
    "### ANN\n"
   ]
  },
  {
   "cell_type": "markdown",
   "id": "31de0d77",
   "metadata": {},
   "source": [
    "### Model Evaluation\n"
   ]
  },
  {
   "cell_type": "code",
   "execution_count": null,
   "id": "346774df",
   "metadata": {},
   "outputs": [],
   "source": [
    "# Confusion Matrix\n",
    "# Precision\n",
    "# Recall\n",
    "# F1 Score"
   ]
  },
  {
   "cell_type": "code",
   "execution_count": null,
   "id": "c8ce8fbe",
   "metadata": {},
   "outputs": [],
   "source": [
    "# Decaying learning rate and non decaying learning rate"
   ]
  }
 ],
 "metadata": {
  "kernelspec": {
   "display_name": "base",
   "language": "python",
   "name": "python3"
  },
  "language_info": {
   "codemirror_mode": {
    "name": "ipython",
    "version": 3
   },
   "file_extension": ".py",
   "mimetype": "text/x-python",
   "name": "python",
   "nbconvert_exporter": "python",
   "pygments_lexer": "ipython3",
   "version": "3.12.9"
  }
 },
 "nbformat": 4,
 "nbformat_minor": 5
}
