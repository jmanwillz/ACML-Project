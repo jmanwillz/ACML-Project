{
 "cells": [
  {
   "cell_type": "markdown",
   "id": "0a124e89",
   "metadata": {},
   "source": [
    "### Import Libraries\n"
   ]
  },
  {
   "cell_type": "code",
   "execution_count": null,
   "id": "fbddb834",
   "metadata": {},
   "outputs": [],
   "source": [
    "import numpy as np\n",
    "import pandas as pd\n",
    "import matplotlib.pyplot as plt\n",
    "import seaborn as sns\n",
    "from sklearn.preprocessing import MinMaxScaler"
   ]
  },
  {
   "cell_type": "markdown",
   "id": "6dc56f9a",
   "metadata": {},
   "source": [
    "### Load Data"
   ]
  },
  {
   "cell_type": "code",
   "execution_count": null,
   "id": "fc6c112c",
   "metadata": {},
   "outputs": [],
   "source": [
    "# Load data\n",
    "df = pd.read_csv('../dataset/data.csv', sep=';')\n",
    "df.head()"
   ]
  },
  {
   "cell_type": "code",
   "execution_count": null,
   "id": "28e7978a",
   "metadata": {},
   "outputs": [],
   "source": [
    "# Variables table\n",
    "df_variables = pd.read_csv('../dataset/variables.csv')\n",
    "df_variables.head(len(df_variables))"
   ]
  },
  {
   "cell_type": "code",
   "execution_count": null,
   "id": "f6fa0c82",
   "metadata": {},
   "outputs": [],
   "source": [
    "# Data info\n",
    "df.info()"
   ]
  },
  {
   "cell_type": "markdown",
   "id": "4bec44cd",
   "metadata": {},
   "source": [
    "### Target Variable"
   ]
  },
  {
   "cell_type": "code",
   "execution_count": null,
   "id": "5a020b31",
   "metadata": {},
   "outputs": [],
   "source": [
    "# Target variable\n",
    "df_target = pd.read_csv('../dataset/labels.csv')\n",
    "df_target.head()"
   ]
  },
  {
   "cell_type": "code",
   "execution_count": null,
   "id": "a373783e",
   "metadata": {},
   "outputs": [],
   "source": [
    "# Value counts\n",
    "df_target['y'].value_counts()"
   ]
  },
  {
   "cell_type": "code",
   "execution_count": null,
   "id": "9771710c",
   "metadata": {},
   "outputs": [],
   "source": [
    "# Normalised value counts\n",
    "df_target['y'].value_counts(normalize=True)"
   ]
  },
  {
   "cell_type": "code",
   "execution_count": null,
   "id": "f4a82a42",
   "metadata": {},
   "outputs": [],
   "source": [
    "# Visualise the target variable\n",
    "sns.countplot(x='y', data=df_target, hue='y', palette='Set1')\n",
    "plt.show()"
   ]
  },
  {
   "cell_type": "markdown",
   "id": "4b692011",
   "metadata": {},
   "source": [
    "### Missing Values"
   ]
  },
  {
   "cell_type": "code",
   "execution_count": null,
   "id": "f03843af",
   "metadata": {},
   "outputs": [],
   "source": [
    "# Count missing values per column\n",
    "df.isnull().sum()"
   ]
  },
  {
   "cell_type": "code",
   "execution_count": null,
   "id": "bfee9d28",
   "metadata": {},
   "outputs": [],
   "source": [
    "# Replace missing values\n",
    "\n",
    "# Numerical columns has no missing values\n",
    "\n",
    "# Categorical columns\n",
    "df = df.fillna(value={'job' : 'missing'})\n",
    "df = df.fillna(value={'education' : 'missing'})\n",
    "df = df.fillna(value={'contact' : 'missing'})\n",
    "df = df.fillna(value={'poutcome' : 'missing'})\n"
   ]
  },
  {
   "cell_type": "code",
   "execution_count": null,
   "id": "7ca8ed1b",
   "metadata": {},
   "outputs": [],
   "source": [
    "# Recount missing values per column\n",
    "df.isnull().sum()"
   ]
  },
  {
   "cell_type": "markdown",
   "id": "2f1f2bdf",
   "metadata": {},
   "source": [
    "### Unique Values"
   ]
  },
  {
   "cell_type": "code",
   "execution_count": null,
   "id": "f8d631c4",
   "metadata": {},
   "outputs": [],
   "source": [
    "# Investigate unique values\n",
    "df.nunique()"
   ]
  },
  {
   "cell_type": "markdown",
   "id": "44346087",
   "metadata": {},
   "source": [
    "### EDA"
   ]
  },
  {
   "cell_type": "code",
   "execution_count": null,
   "id": "d862a1f4",
   "metadata": {},
   "outputs": [],
   "source": [
    "# Add the 'y' column from df_target as a new column in df\n",
    "df['y'] = df_target['y']\n",
    "df.head()"
   ]
  },
  {
   "cell_type": "code",
   "execution_count": null,
   "id": "d9fe67c6",
   "metadata": {},
   "outputs": [],
   "source": [
    "# Categorical Variables\n",
    "def explore_categorical(col_name):   \n",
    "    print(\"{0} Summary\".format(col_name))\n",
    "    print(\"\\n\")\n",
    "    \n",
    "    # Print the count of each category\n",
    "    print(\"{0} Counts\".format(col_name))\n",
    "    print(df[col_name].value_counts())\n",
    "    print(\"\\n\")\n",
    "\n",
    "    # Print the ratio of each category\n",
    "    print(\"{0} Ratio\".format(col_name))\n",
    "    print(df[col_name].value_counts(normalize=True))\n",
    "    print(\"\\n\")\n",
    "    \n",
    "    # Print counts of loan defaults grouped by the categorical column\n",
    "    print(\"{0} Default Counts\".format(col_name))\n",
    "    print(df.groupby(col_name)['y'].value_counts().unstack(level=-1))\n",
    "    print(\"\\n\")\n",
    "\n",
    "    # Print ratio of loan defaults grouped by the categorical column\n",
    "    print(\"{0} Default Ratio\".format(col_name))\n",
    "    print(df.groupby(col_name)['y'].value_counts(normalize=True).unstack(level=-1))\n",
    "    print(\"\\n\")\n",
    "\n",
    "    # Plot ratio of loan defaults by the categorical column\n",
    "    sns.catplot(data=df,kind='count',x=col_name,hue='y')\n",
    "    plt.show()"
   ]
  },
  {
   "cell_type": "code",
   "execution_count": null,
   "id": "fff46b10",
   "metadata": {},
   "outputs": [],
   "source": [
    "# Explore job column\n",
    "explore_categorical('education')"
   ]
  },
  {
   "cell_type": "code",
   "execution_count": null,
   "id": "e6d2f730",
   "metadata": {},
   "outputs": [],
   "source": [
    "# Continous Variables \n",
    "def explore_continuous(col_name):\n",
    "    # Print statistical summary\n",
    "    print(\"{0} Summary\".format(col_name))\n",
    "    print(\"\\n\")\n",
    "    print(df[col_name].describe())\n",
    "    print(\"\\n\")\n",
    "\n",
    "    # Look at boxplot\n",
    "    sns.boxplot(x=col_name, data=df)\n",
    "    plt.show()\n",
    "\n",
    "    # Look at the distribution\n",
    "    sns.distplot(df[col_name], hist=False)\n",
    "    plt.show()\n",
    "\n",
    "    # Grouping with the target variable \n",
    "    print(\"{0} Grouped Summary\".format(col_name))\n",
    "    print(\"\\n\")\n",
    "    print(df.groupby('y')[col_name].describe())\n",
    "\n",
    "    # Look at grouped boxplot \n",
    "    sns.boxplot(x=col_name, y='y', data=df, orient=\"h\")\n",
    "    plt.show()"
   ]
  },
  {
   "cell_type": "code",
   "execution_count": null,
   "id": "ed32f072",
   "metadata": {},
   "outputs": [],
   "source": [
    "# Explore age column\n",
    "explore_continuous('pdays') "
   ]
  },
  {
   "cell_type": "code",
   "execution_count": null,
   "id": "a3a2f842",
   "metadata": {},
   "outputs": [],
   "source": [
    "# Binary Variables\n",
    "explore_categorical('housing')"
   ]
  },
  {
   "cell_type": "markdown",
   "id": "01249fc9",
   "metadata": {},
   "source": [
    "### Normalisation"
   ]
  },
  {
   "cell_type": "code",
   "execution_count": null,
   "id": "7af572fd",
   "metadata": {},
   "outputs": [],
   "source": [
    "## Numerical values\n",
    "numerical_columns = df_variables[df_variables['type'] == 'Integer']['name'].tolist()\n",
    "print(numerical_columns)\n",
    "df[numerical_columns].boxplot()\n",
    "plt.title('Prior to Scaling')\n",
    "plt.show()\n",
    "\n",
    "mm_scalar = MinMaxScaler()\n",
    "df[numerical_columns] = mm_scalar.fit_transform(df[numerical_columns])\n",
    "\n",
    "df[numerical_columns].boxplot()\n",
    "plt.title('After Scaling')\n",
    "plt.show()\n",
    "\n"
   ]
  },
  {
   "cell_type": "code",
   "execution_count": null,
   "id": "1f4ec20d",
   "metadata": {},
   "outputs": [],
   "source": [
    "## Binary \n",
    "binary_columns = df_variables[df_variables['type'] == 'Binary']['name'].tolist()\n",
    "print(binary_columns)\n",
    "\n",
    "df[binary_columns] = df[binary_columns].apply(lambda col: col.map({'yes': 1, 'no': 0}))\n",
    "df.head()\n"
   ]
  },
  {
   "cell_type": "code",
   "execution_count": null,
   "id": "9cde45bb",
   "metadata": {},
   "outputs": [],
   "source": [
    "## Categorical (Ordinal data)\n",
    "ordinal_column = 'education'\n",
    "categories = sorted(df[ordinal_column].unique())\n",
    "\n",
    "# Ordinal-encoding\n",
    "df[ordinal_column] = df[ordinal_column].apply(lambda x: (categories.index(x)) / (len(categories) - 1))\n",
    " \n",
    "df.head()\n",
    "\n",
    "print(df[ordinal_column].value_counts())\n",
    "\n"
   ]
  },
  {
   "cell_type": "code",
   "execution_count": null,
   "id": "b6c3f1ef",
   "metadata": {},
   "outputs": [],
   "source": [
    "## Categorical (Nominal) - One hot encoding  \n",
    "nominal_column = df_variables[\n",
    "    (df_variables['type'] == 'Categorical') & \n",
    "    (df_variables['name'] != 'education')\n",
    "]['name'].tolist()\n",
    "print(nominal_column)"
   ]
  },
  {
   "cell_type": "markdown",
   "id": "77a83bd6",
   "metadata": {},
   "source": [
    "### Train/Validation/Test Split"
   ]
  },
  {
   "cell_type": "markdown",
   "id": "06e9828c",
   "metadata": {},
   "source": [
    "### ANN"
   ]
  },
  {
   "cell_type": "markdown",
   "id": "31de0d77",
   "metadata": {},
   "source": [
    "### Model Evaluation"
   ]
  },
  {
   "cell_type": "code",
   "execution_count": null,
   "id": "346774df",
   "metadata": {},
   "outputs": [],
   "source": [
    "# Confusion Matrix\n",
    "# Precision\n",
    "# Recall\n",
    "# F1 Score"
   ]
  },
  {
   "cell_type": "code",
   "execution_count": null,
   "id": "c8ce8fbe",
   "metadata": {},
   "outputs": [],
   "source": [
    "# Decaying learning rate and non decaying learning rate"
   ]
  }
 ],
 "metadata": {
  "kernelspec": {
   "display_name": "base",
   "language": "python",
   "name": "python3"
  },
  "language_info": {
   "codemirror_mode": {
    "name": "ipython",
    "version": 3
   },
   "file_extension": ".py",
   "mimetype": "text/x-python",
   "name": "python",
   "nbconvert_exporter": "python",
   "pygments_lexer": "ipython3",
   "version": "3.12.9"
  }
 },
 "nbformat": 4,
 "nbformat_minor": 5
}
